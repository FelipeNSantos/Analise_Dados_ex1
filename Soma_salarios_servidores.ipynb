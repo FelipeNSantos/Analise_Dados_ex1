{
 "cells": [
  {
   "cell_type": "markdown",
   "metadata": {},
   "source": [
    "# Exercício de Análise de Dados \n",
    "*** \n",
    "<br>\n",
    "\n",
    "### Cálculo da soma de remunerações em um dataframe a partir de uma lista importada de arquivos PDF.\n",
    "<br>"
   ]
  },
  {
   "cell_type": "markdown",
   "metadata": {},
   "source": [
    "<br>\n",
    "\n",
    "### Importação dos Módulos\n",
    "\n",
    "<br>"
   ]
  },
  {
   "cell_type": "code",
   "execution_count": 1,
   "metadata": {},
   "outputs": [],
   "source": [
    "#utilizei o camelot pela sintaxe simples e eficiência\n",
    "import os\n",
    "import numpy as np\n",
    "import pandas as pd\n",
    "import camelot\n",
    "import zipfile"
   ]
  },
  {
   "cell_type": "markdown",
   "metadata": {},
   "source": [
    "<br>\n",
    "\n",
    "### Importação dos Arquivos PDF e Concatenação da Listagem\n",
    "<br>\n",
    "Obs. O Camelot possui um bug: a seleção de várias páginas, (ex. pages='1-3' ou 'all'), não funciona. Então foi necessaŕio repetir a rotina de extração para cada página.\n",
    "\n",
    "<br>\n",
    "\n",
    "Isso também fez com que a rotina não funcionasse para o último arquivo, que só possui uma página, gerando erro de índice e obrigando a tratar esse último arquivo separadamente. \n",
    "<br>\n",
    "<br>"
   ]
  },
  {
   "cell_type": "code",
   "execution_count": 2,
   "metadata": {},
   "outputs": [],
   "source": [
    "List_Path = './Lista_Completa/Arquivos/'\n",
    "Ult_Path = './Lista_Completa/ult/'\n",
    "df3 = pd.DataFrame(columns=[0,1,2,3,4,5,6,7,8])\n",
    "df3a = pd.DataFrame(columns=[0,1,2,3,4,5,6,7,8])\n",
    "\n",
    "# Leitura dos arquivos de 3 páginas\n",
    "for arq in os.listdir(List_Path):\n",
    "    df1 = camelot.read_pdf(List_Path+arq, pages='1') \n",
    "    df2 = df1[0].df\n",
    "    df3 = df3.append(df2)\n",
    "    df1 = camelot.read_pdf(List_Path+arq, pages='2') \n",
    "    df2 = df1[0].df\n",
    "    df3 = df3.append(df2)\n",
    "    df1 = camelot.read_pdf(List_Path+arq, pages='3') \n",
    "    df2 = df1[0].df\n",
    "    df3 = df3.append(df2)\n",
    "    \n",
    "#Leitura do último arquivo com uma só página\n",
    "for arq in os.listdir(Ult_Path):\n",
    "    df1a = camelot.read_pdf(Ult_Path+arq, pages='1')\n",
    "    df2a = df1a[0].df\n",
    "    df3a = df3a.append(df2a)\n",
    "df3 = df3.append(df3a)\n",
    "df3.rename(columns=df3.iloc[0]).drop(df3.index[0])\n",
    "df3.columns = ['A', 'B', 'C', 'NOME', 'E', 'F', 'G', 'H', 'I']\n",
    "df3.drop(df3[['A', 'B', 'C', 'E', 'F', 'G', 'H', 'I']], axis=1, inplace=True)\n",
    "df3.drop(df3.index[0], axis=0, inplace=True)"
   ]
  },
  {
   "cell_type": "code",
   "execution_count": 12,
   "metadata": {},
   "outputs": [
    {
     "data": {
      "text/html": [
       "<div>\n",
       "<style scoped>\n",
       "    .dataframe tbody tr th:only-of-type {\n",
       "        vertical-align: middle;\n",
       "    }\n",
       "\n",
       "    .dataframe tbody tr th {\n",
       "        vertical-align: top;\n",
       "    }\n",
       "\n",
       "    .dataframe thead th {\n",
       "        text-align: right;\n",
       "    }\n",
       "</style>\n",
       "<table border=\"1\" class=\"dataframe\">\n",
       "  <thead>\n",
       "    <tr style=\"text-align: right;\">\n",
       "      <th></th>\n",
       "      <th>NOME</th>\n",
       "    </tr>\n",
       "  </thead>\n",
       "  <tbody>\n",
       "    <tr>\n",
       "      <th>1</th>\n",
       "      <td>ABDO HASSEN SALMAN</td>\n",
       "    </tr>\n",
       "    <tr>\n",
       "      <th>2</th>\n",
       "      <td>ADAILTON ABREU DA SILVA</td>\n",
       "    </tr>\n",
       "    <tr>\n",
       "      <th>3</th>\n",
       "      <td>ADALTON FARIA</td>\n",
       "    </tr>\n",
       "    <tr>\n",
       "      <th>4</th>\n",
       "      <td>ADEMILDES FERREIRA DE LIMA</td>\n",
       "    </tr>\n",
       "    <tr>\n",
       "      <th>5</th>\n",
       "      <td>ADEMIR CARNEIRO DA CUNHA</td>\n",
       "    </tr>\n",
       "    <tr>\n",
       "      <th>...</th>\n",
       "      <td>...</td>\n",
       "    </tr>\n",
       "    <tr>\n",
       "      <th>5</th>\n",
       "      <td>YURI SILVA SERAFIM MACHADO</td>\n",
       "    </tr>\n",
       "    <tr>\n",
       "      <th>6</th>\n",
       "      <td>ZENAR MARIA RIBEIRO MENDES DE SABOIA</td>\n",
       "    </tr>\n",
       "    <tr>\n",
       "      <th>7</th>\n",
       "      <td>ZILMA VIEIRA DA CRUZ</td>\n",
       "    </tr>\n",
       "    <tr>\n",
       "      <th>8</th>\n",
       "      <td>ZILOCI FERREIRA DOS SANTOS</td>\n",
       "    </tr>\n",
       "    <tr>\n",
       "      <th>9</th>\n",
       "      <td>ZULEICA ANTUNES GUIMARAES CARDOSO</td>\n",
       "    </tr>\n",
       "  </tbody>\n",
       "</table>\n",
       "<p>3559 rows × 1 columns</p>\n",
       "</div>"
      ],
      "text/plain": [
       "                                    NOME\n",
       "1                     ABDO HASSEN SALMAN\n",
       "2                ADAILTON ABREU DA SILVA\n",
       "3                          ADALTON FARIA\n",
       "4             ADEMILDES FERREIRA DE LIMA\n",
       "5               ADEMIR CARNEIRO DA CUNHA\n",
       "..                                   ...\n",
       "5             YURI SILVA SERAFIM MACHADO\n",
       "6   ZENAR MARIA RIBEIRO MENDES DE SABOIA\n",
       "7                   ZILMA VIEIRA DA CRUZ\n",
       "8             ZILOCI FERREIRA DOS SANTOS\n",
       "9      ZULEICA ANTUNES GUIMARAES CARDOSO\n",
       "\n",
       "[3559 rows x 1 columns]"
      ]
     },
     "execution_count": 12,
     "metadata": {},
     "output_type": "execute_result"
    }
   ],
   "source": [
    "#Criação da Lista Completa\n",
    "Lista_Completa = pd.DataFrame(columns=[\"NOME\"])\n",
    "Lista_Completa = Lista_Completa.append(df3)\n",
    "Lista_Completa = Lista_Completa.sort_values(['NOME']) # Ordenando para conferir a integridade\n",
    "Lista_Completa = Lista_Completa[\"NOME\"].str.replace('\\n', ' ')\n",
    "Lista_Completa = Lista_Completa.to_frame()\n",
    "Lista_Completa"
   ]
  },
  {
   "cell_type": "markdown",
   "metadata": {},
   "source": [
    "<br>\n",
    "\n",
    "### Explorando o Arquivo Geral zipado\n",
    "\n",
    "<br>"
   ]
  },
  {
   "cell_type": "code",
   "execution_count": 5,
   "metadata": {},
   "outputs": [
    {
     "name": "stdout",
     "output_type": "stream",
     "text": [
      "['Servidores/', 'Servidores/202001_Remuneracao.csv']\n"
     ]
    }
   ],
   "source": [
    "with zipfile.ZipFile('Servidores.zip') as BigFile:\n",
    "    print(BigFile.namelist(),sep='\\n')"
   ]
  },
  {
   "cell_type": "markdown",
   "metadata": {},
   "source": [
    "<br>\n",
    "\n",
    "### Preparação do Arquivo selecionado dentro do zip como DataFrame\n",
    "\n",
    "<br>"
   ]
  },
  {
   "cell_type": "code",
   "execution_count": 6,
   "metadata": {},
   "outputs": [],
   "source": [
    "with zipfile.ZipFile('Servidores.zip') as BigFile:\n",
    "    with BigFile.open('Servidores/202001_Remuneracao.csv') as data:\n",
    "        dfBig = pd.read_csv(data, sep=';', decimal=\",\", low_memory=False, encoding='ISO-8859-1') #testar com nrows=10000 primeiro"
   ]
  },
  {
   "cell_type": "markdown",
   "metadata": {},
   "source": [
    "<br>\n",
    "\n",
    "### Filtragem dos Dados\n",
    "\n",
    "<br>"
   ]
  },
  {
   "cell_type": "code",
   "execution_count": 11,
   "metadata": {},
   "outputs": [
    {
     "data": {
      "text/plain": [
       "Index(['ANO', 'MES', 'Id_SERVIDOR_PORTAL', 'CPF', 'NOME',\n",
       "       'REMUNERAÇÃO BÁSICA BRUTA (R$)', 'REMUNERAÇÃO BÁSICA BRUTA (U$)',\n",
       "       'ABATE-TETO (R$)', 'ABATE-TETO (U$)', 'GRATIFICAÇÃO NATALINA (R$)',\n",
       "       'GRATIFICAÇÃO NATALINA (U$)',\n",
       "       'ABATE-TETO DA GRATIFICAÇÃO NATALINA (R$)',\n",
       "       'ABATE-TETO DA GRATIFICAÇÃO NATALINA (U$)', 'FÉRIAS (R$)',\n",
       "       'FÉRIAS (U$)', 'OUTRAS REMUNERAÇÕES EVENTUAIS (R$)',\n",
       "       'OUTRAS REMUNERAÇÕES EVENTUAIS (U$)', 'IRRF (R$)', 'IRRF (U$)',\n",
       "       'PSS/RPGS (R$)', 'PSS/RPGS (U$)', 'DEMAIS DEDUÇÕES (R$)',\n",
       "       'DEMAIS DEDUÇÕES (U$)', 'PENSÃO MILITAR (R$)', 'PENSÃO MILITAR (U$)',\n",
       "       'FUNDO DE SAÚDE (R$)', 'FUNDO DE SAÚDE (U$)',\n",
       "       'TAXA DE OCUPAÇÃO IMÓVEL FUNCIONAL (R$)',\n",
       "       'TAXA DE OCUPAÇÃO IMÓVEL FUNCIONAL (U$)',\n",
       "       'REMUNERAÇÃO APÓS DEDUÇÕES OBRIGATÓRIAS (R$)',\n",
       "       'REMUNERAÇÃO APÓS DEDUÇÕES OBRIGATÓRIAS (U$)',\n",
       "       'VERBAS INDENIZATÓRIAS REGISTRADAS EM SISTEMAS DE PESSOAL - CIVIL (R$)(*)',\n",
       "       'VERBAS INDENIZATÓRIAS REGISTRADAS EM SISTEMAS DE PESSOAL - CIVIL (U$)(*)',\n",
       "       'VERBAS INDENIZATÓRIAS REGISTRADAS EM SISTEMAS DE PESSOAL - MILITAR (R$)(*)',\n",
       "       'VERBAS INDENIZATÓRIAS REGISTRADAS EM SISTEMAS DE PESSOAL - MILITAR (U$)(*)',\n",
       "       'VERBAS INDENIZATÓRIAS PROGRAMA DESLIGAMENTO VOLUNTÁRIO  MP 792/2017 (R$)',\n",
       "       'VERBAS INDENIZATÓRIAS PROGRAMA DESLIGAMENTO VOLUNTÁRIO  MP 792/2017 (U$)',\n",
       "       'TOTAL DE VERBAS INDENIZATÓRIAS (R$)(*)',\n",
       "       'TOTAL DE VERBAS INDENIZATÓRIAS (U$)(*)'],\n",
       "      dtype='object')"
      ]
     },
     "execution_count": 11,
     "metadata": {},
     "output_type": "execute_result"
    }
   ],
   "source": [
    "dfBig.columns"
   ]
  },
  {
   "cell_type": "code",
   "execution_count": 24,
   "metadata": {},
   "outputs": [
    {
     "data": {
      "text/html": [
       "<div>\n",
       "<style scoped>\n",
       "    .dataframe tbody tr th:only-of-type {\n",
       "        vertical-align: middle;\n",
       "    }\n",
       "\n",
       "    .dataframe tbody tr th {\n",
       "        vertical-align: top;\n",
       "    }\n",
       "\n",
       "    .dataframe thead th {\n",
       "        text-align: right;\n",
       "    }\n",
       "</style>\n",
       "<table border=\"1\" class=\"dataframe\">\n",
       "  <thead>\n",
       "    <tr style=\"text-align: right;\">\n",
       "      <th></th>\n",
       "      <th>NOME</th>\n",
       "      <th>REM</th>\n",
       "    </tr>\n",
       "  </thead>\n",
       "  <tbody>\n",
       "    <tr>\n",
       "      <th>0</th>\n",
       "      <td>AARAO CARLOS LUZ MACAMBIRA</td>\n",
       "      <td>7967.90</td>\n",
       "    </tr>\n",
       "    <tr>\n",
       "      <th>1</th>\n",
       "      <td>AARAO DIAMANTINO OLIVEIRA</td>\n",
       "      <td>34006.68</td>\n",
       "    </tr>\n",
       "    <tr>\n",
       "      <th>2</th>\n",
       "      <td>AARAO FERREIRA LIMA NETO</td>\n",
       "      <td>14249.03</td>\n",
       "    </tr>\n",
       "    <tr>\n",
       "      <th>3</th>\n",
       "      <td>AARAO PEREIRA DE ARAUJO JUNIOR</td>\n",
       "      <td>21007.45</td>\n",
       "    </tr>\n",
       "    <tr>\n",
       "      <th>4</th>\n",
       "      <td>AARAO SOARES</td>\n",
       "      <td>5896.78</td>\n",
       "    </tr>\n",
       "    <tr>\n",
       "      <th>...</th>\n",
       "      <td>...</td>\n",
       "      <td>...</td>\n",
       "    </tr>\n",
       "    <tr>\n",
       "      <th>554384</th>\n",
       "      <td>ZUY MARIA MAGRIOTIS</td>\n",
       "      <td>19646.82</td>\n",
       "    </tr>\n",
       "    <tr>\n",
       "      <th>554385</th>\n",
       "      <td>ZUZANA RENDAKI MIKOS</td>\n",
       "      <td>4801.59</td>\n",
       "    </tr>\n",
       "    <tr>\n",
       "      <th>554386</th>\n",
       "      <td>ZUZITA DOS SANTOS VIANA</td>\n",
       "      <td>6612.02</td>\n",
       "    </tr>\n",
       "    <tr>\n",
       "      <th>554387</th>\n",
       "      <td>ZYSMAN NEIMAN</td>\n",
       "      <td>17945.81</td>\n",
       "    </tr>\n",
       "    <tr>\n",
       "      <th>554388</th>\n",
       "      <td>NaN</td>\n",
       "      <td>NaN</td>\n",
       "    </tr>\n",
       "  </tbody>\n",
       "</table>\n",
       "<p>554389 rows × 2 columns</p>\n",
       "</div>"
      ],
      "text/plain": [
       "                                  NOME       REM\n",
       "0           AARAO CARLOS LUZ MACAMBIRA   7967.90\n",
       "1            AARAO DIAMANTINO OLIVEIRA  34006.68\n",
       "2             AARAO FERREIRA LIMA NETO  14249.03\n",
       "3       AARAO PEREIRA DE ARAUJO JUNIOR  21007.45\n",
       "4                         AARAO SOARES   5896.78\n",
       "...                                ...       ...\n",
       "554384             ZUY MARIA MAGRIOTIS  19646.82\n",
       "554385            ZUZANA RENDAKI MIKOS   4801.59\n",
       "554386         ZUZITA DOS SANTOS VIANA   6612.02\n",
       "554387                   ZYSMAN NEIMAN  17945.81\n",
       "554388                             NaN       NaN\n",
       "\n",
       "[554389 rows x 2 columns]"
      ]
     },
     "execution_count": 24,
     "metadata": {},
     "output_type": "execute_result"
    }
   ],
   "source": [
    "dfWork = dfBig[['NOME','REMUNERAÇÃO BÁSICA BRUTA (R$)']].copy()\n",
    "dfWork.columns = ['NOME', 'REM']\n",
    "dfWork\n"
   ]
  },
  {
   "cell_type": "code",
   "execution_count": 25,
   "metadata": {},
   "outputs": [
    {
     "data": {
      "text/html": [
       "<div>\n",
       "<style scoped>\n",
       "    .dataframe tbody tr th:only-of-type {\n",
       "        vertical-align: middle;\n",
       "    }\n",
       "\n",
       "    .dataframe tbody tr th {\n",
       "        vertical-align: top;\n",
       "    }\n",
       "\n",
       "    .dataframe thead th {\n",
       "        text-align: right;\n",
       "    }\n",
       "</style>\n",
       "<table border=\"1\" class=\"dataframe\">\n",
       "  <thead>\n",
       "    <tr style=\"text-align: right;\">\n",
       "      <th></th>\n",
       "      <th>NOME</th>\n",
       "      <th>REM</th>\n",
       "    </tr>\n",
       "  </thead>\n",
       "  <tbody>\n",
       "    <tr>\n",
       "      <th>75</th>\n",
       "      <td>ABDO HASSEN SALMAN</td>\n",
       "      <td>19280.76</td>\n",
       "    </tr>\n",
       "    <tr>\n",
       "      <th>830</th>\n",
       "      <td>ADAILTON ABREU DA SILVA</td>\n",
       "      <td>17579.95</td>\n",
       "    </tr>\n",
       "    <tr>\n",
       "      <th>1320</th>\n",
       "      <td>ADALTON FARIA</td>\n",
       "      <td>20468.03</td>\n",
       "    </tr>\n",
       "    <tr>\n",
       "      <th>2484</th>\n",
       "      <td>ADEMILDES FERREIRA DE LIMA</td>\n",
       "      <td>17952.92</td>\n",
       "    </tr>\n",
       "    <tr>\n",
       "      <th>2591</th>\n",
       "      <td>ADEMIR CARNEIRO DA CUNHA</td>\n",
       "      <td>21099.50</td>\n",
       "    </tr>\n",
       "    <tr>\n",
       "      <th>...</th>\n",
       "      <td>...</td>\n",
       "      <td>...</td>\n",
       "    </tr>\n",
       "    <tr>\n",
       "      <th>553120</th>\n",
       "      <td>YURI SILVA SERAFIM MACHADO</td>\n",
       "      <td>20468.03</td>\n",
       "    </tr>\n",
       "    <tr>\n",
       "      <th>553639</th>\n",
       "      <td>ZENAR MARIA RIBEIRO MENDES DE SABOIA</td>\n",
       "      <td>31756.08</td>\n",
       "    </tr>\n",
       "    <tr>\n",
       "      <th>554034</th>\n",
       "      <td>ZILMA VIEIRA DA CRUZ</td>\n",
       "      <td>21099.50</td>\n",
       "    </tr>\n",
       "    <tr>\n",
       "      <th>554070</th>\n",
       "      <td>ZILOCI FERREIRA DOS SANTOS</td>\n",
       "      <td>15536.87</td>\n",
       "    </tr>\n",
       "    <tr>\n",
       "      <th>554245</th>\n",
       "      <td>ZULEICA ANTUNES GUIMARAES CARDOSO</td>\n",
       "      <td>21040.70</td>\n",
       "    </tr>\n",
       "  </tbody>\n",
       "</table>\n",
       "<p>3601 rows × 2 columns</p>\n",
       "</div>"
      ],
      "text/plain": [
       "                                        NOME       REM\n",
       "75                        ABDO HASSEN SALMAN  19280.76\n",
       "830                  ADAILTON ABREU DA SILVA  17579.95\n",
       "1320                           ADALTON FARIA  20468.03\n",
       "2484              ADEMILDES FERREIRA DE LIMA  17952.92\n",
       "2591                ADEMIR CARNEIRO DA CUNHA  21099.50\n",
       "...                                      ...       ...\n",
       "553120            YURI SILVA SERAFIM MACHADO  20468.03\n",
       "553639  ZENAR MARIA RIBEIRO MENDES DE SABOIA  31756.08\n",
       "554034                  ZILMA VIEIRA DA CRUZ  21099.50\n",
       "554070            ZILOCI FERREIRA DOS SANTOS  15536.87\n",
       "554245     ZULEICA ANTUNES GUIMARAES CARDOSO  21040.70\n",
       "\n",
       "[3601 rows x 2 columns]"
      ]
     },
     "execution_count": 25,
     "metadata": {},
     "output_type": "execute_result"
    }
   ],
   "source": [
    "#Extração do subconjunto de dados\n",
    "dfSEL = dfWork.loc[dfWork['NOME'].isin(Lista_Completa['NOME'])]\n",
    "dfSEL"
   ]
  },
  {
   "cell_type": "markdown",
   "metadata": {},
   "source": [
    "<br>\n",
    "\n",
    "### Eliminando registros inválidos\n",
    "\n",
    "<br>"
   ]
  },
  {
   "cell_type": "code",
   "execution_count": 28,
   "metadata": {},
   "outputs": [
    {
     "data": {
      "text/html": [
       "<div>\n",
       "<style scoped>\n",
       "    .dataframe tbody tr th:only-of-type {\n",
       "        vertical-align: middle;\n",
       "    }\n",
       "\n",
       "    .dataframe tbody tr th {\n",
       "        vertical-align: top;\n",
       "    }\n",
       "\n",
       "    .dataframe thead th {\n",
       "        text-align: right;\n",
       "    }\n",
       "</style>\n",
       "<table border=\"1\" class=\"dataframe\">\n",
       "  <thead>\n",
       "    <tr style=\"text-align: right;\">\n",
       "      <th></th>\n",
       "      <th>NOME</th>\n",
       "      <th>REM</th>\n",
       "    </tr>\n",
       "  </thead>\n",
       "  <tbody>\n",
       "  </tbody>\n",
       "</table>\n",
       "</div>"
      ],
      "text/plain": [
       "Empty DataFrame\n",
       "Columns: [NOME, REM]\n",
       "Index: []"
      ]
     },
     "execution_count": 28,
     "metadata": {},
     "output_type": "execute_result"
    }
   ],
   "source": [
    "dfSEL.loc[dfSEL[\"REM\"].isnull()].fillna(0)  #verificando valores nulos e substituindo por zero"
   ]
  },
  {
   "cell_type": "code",
   "execution_count": 31,
   "metadata": {},
   "outputs": [
    {
     "data": {
      "text/plain": [
       "75        19280.759766\n",
       "830       17579.949219\n",
       "1320      20468.029297\n",
       "2484      17952.919922\n",
       "2591      21099.500000\n",
       "              ...     \n",
       "553120    20468.029297\n",
       "553639    31756.080078\n",
       "554034    21099.500000\n",
       "554070    15536.870117\n",
       "554245    21040.699219\n",
       "Name: REM, Length: 3601, dtype: float32"
      ]
     },
     "execution_count": 31,
     "metadata": {},
     "output_type": "execute_result"
    }
   ],
   "source": [
    "#Transformando em dfloat32 para economizar memória no processamento\n",
    "dfSEL['REM'].astype(np.float32)"
   ]
  },
  {
   "cell_type": "markdown",
   "metadata": {},
   "source": [
    "<br>\n",
    "\n",
    "### Soma Final da Remuneração dos Servidores da Lista\n",
    "\n",
    "<br>"
   ]
  },
  {
   "cell_type": "code",
   "execution_count": 33,
   "metadata": {},
   "outputs": [
    {
     "name": "stdout",
     "output_type": "stream",
     "text": [
      "A soma de todas as remunerações da lista é: \n",
      "69829588.2\n"
     ]
    }
   ],
   "source": [
    "SOMA = dfSEL['REM'].sum()\n",
    "print(\"A soma de todas as remunerações da lista é: \")\n",
    "print(SOMA)"
   ]
  },
  {
   "cell_type": "code",
   "execution_count": null,
   "metadata": {},
   "outputs": [],
   "source": []
  }
 ],
 "metadata": {
  "kernelspec": {
   "display_name": "Python 3",
   "language": "python",
   "name": "python3"
  },
  "language_info": {
   "codemirror_mode": {
    "name": "ipython",
    "version": 3
   },
   "file_extension": ".py",
   "mimetype": "text/x-python",
   "name": "python",
   "nbconvert_exporter": "python",
   "pygments_lexer": "ipython3",
   "version": "3.8.5"
  },
  "latex_envs": {
   "LaTeX_envs_menu_present": true,
   "autoclose": false,
   "autocomplete": true,
   "bibliofile": "biblio.bib",
   "cite_by": "apalike",
   "current_citInitial": 1,
   "eqLabelWithNumbers": true,
   "eqNumInitial": 1,
   "hotkeys": {
    "equation": "Ctrl-E",
    "itemize": "Ctrl-I"
   },
   "labels_anchors": false,
   "latex_user_defs": false,
   "report_style_numbering": false,
   "user_envs_cfg": false
  }
 },
 "nbformat": 4,
 "nbformat_minor": 4
}
